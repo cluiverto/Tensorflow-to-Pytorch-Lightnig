{
 "cells": [
  {
   "cell_type": "code",
   "execution_count": 5,
   "metadata": {},
   "outputs": [],
   "source": [
    "from preprocess_functions import *\n",
    "\n",
    "import torch\n",
    "#import pytorch_lightning as pl\n",
    "\n",
    "# PARAMETRY\n",
    "current_dir = os.getcwd()#os.path.dirname(os.path.realpath(__file__))\n",
    "INPUT_FILE = os.path.join(current_dir, \"sentiment.txt\")\n",
    "OUTPUT_DIR = current_dir"
   ]
  },
  {
   "cell_type": "code",
   "execution_count": 6,
   "metadata": {},
   "outputs": [
    {
     "data": {
      "text/plain": [
       "(array([[  0,   0,   0, ..., 386,  28, 202],\n",
       "        [  0,   0,   0, ..., 116,  28, 202],\n",
       "        [  0,   0,   0, ..., 157, 166,  34],\n",
       "        ...,\n",
       "        [  0,   0,   0, ..., 116,  28, 202],\n",
       "        [  0,   0,   0, ..., 110, 121,  39],\n",
       "        [  0,   0,   0, ..., 409, 275, 392]]),\n",
       " numpy.ndarray)"
      ]
     },
     "execution_count": 6,
     "metadata": {},
     "output_type": "execute_result"
    }
   ],
   "source": [
    "X_text , Y = get_data(INPUT_FILE)\n",
    "token_idx,num_tokens = tokenize_text(X_text)\n",
    "max_tokens = get_max(X_text)\n",
    "\n",
    "input_sequences = create_sequences(X_text, token_idx,max_tokens)\n",
    "input_sequences, type(input_sequences)"
   ]
  },
  {
   "cell_type": "code",
   "execution_count": 7,
   "metadata": {},
   "outputs": [
    {
     "data": {
      "text/plain": [
       "(tensor([[  0,   0,   0,  ..., 386,  28, 202],\n",
       "         [  0,   0,   0,  ..., 116,  28, 202],\n",
       "         [  0,   0,   0,  ..., 157, 166,  34],\n",
       "         ...,\n",
       "         [  0,   0,   0,  ..., 116,  28, 202],\n",
       "         [  0,   0,   0,  ..., 110, 121,  39],\n",
       "         [  0,   0,   0,  ..., 409, 275, 392]], dtype=torch.int32),\n",
       " torch.Tensor)"
      ]
     },
     "execution_count": 7,
     "metadata": {},
     "output_type": "execute_result"
    }
   ],
   "source": [
    "input_sequences = torch.from_numpy(input_sequences)\n",
    "input_sequences, type(input_sequences)"
   ]
  },
  {
   "cell_type": "code",
   "execution_count": 8,
   "metadata": {},
   "outputs": [
    {
     "data": {
      "text/plain": [
       "torch.Size([7086, 40])"
      ]
     },
     "execution_count": 8,
     "metadata": {},
     "output_type": "execute_result"
    }
   ],
   "source": [
    "input_sequences.shape"
   ]
  },
  {
   "cell_type": "code",
   "execution_count": 9,
   "metadata": {},
   "outputs": [
    {
     "data": {
      "text/plain": [
       "torch.Size([7086])"
      ]
     },
     "execution_count": 9,
     "metadata": {},
     "output_type": "execute_result"
    }
   ],
   "source": [
    "y_num = np.array(Y)\n",
    "y_ten = torch.tensor(y_num)\n",
    "y_ten.shape"
   ]
  },
  {
   "cell_type": "code",
   "execution_count": 10,
   "metadata": {},
   "outputs": [
    {
     "data": {
      "text/plain": [
       "tensor([  0,   0,   0,   0,   0,   0,   0,   0,   0,   0,   0,   0,   0,   0,\n",
       "          0,   0,   0,   0,   0,   0,   0,   0,   0,   0,   0,   0,   0,   0,\n",
       "          0,   0,   0,   0,   0,   0,   0,   0, 291, 386,  28, 202],\n",
       "       dtype=torch.int32)"
      ]
     },
     "execution_count": 10,
     "metadata": {},
     "output_type": "execute_result"
    }
   ],
   "source": [
    "input_sequences[0]"
   ]
  },
  {
   "cell_type": "code",
   "execution_count": 11,
   "metadata": {},
   "outputs": [],
   "source": [
    "import torch.nn as nn\n",
    "import torch.optim as optim\n",
    "\n",
    "\n",
    "class FeedForward(nn.Module):\n",
    "    def __init__(self, num_tokens, max_tokens):\n",
    "        super().__init__()\n",
    "        self.embedding = nn.Embedding(num_embeddings=num_tokens, embedding_dim=8, max_norm=max_tokens)\n",
    "        self.gru1 = nn.GRU(input_size=8, hidden_size=16, batch_first = True)\n",
    "        self.gru2 = nn.GRU(input_size=16, hidden_size=8, batch_first = True)\n",
    "        self.gru3 = nn.GRU(input_size=8, hidden_size=4, batch_first = True)\n",
    "        self.linear = nn.Linear(in_features=4, out_features=1)\n",
    "        self.sigmoid = nn.Sigmoid()\n",
    "\n",
    "\n",
    "    def forward(self, x):\n",
    "        x = self.embedding(x)\n",
    "        x, _ = self.gru1(x)\n",
    "        x, _ = self.gru2(x)\n",
    "        x, _ = self.gru3(x)\n",
    "        x = self.linear(x[:, -1, :])\n",
    "        x = self.sigmoid(x)\n",
    "        return x"
   ]
  },
  {
   "cell_type": "code",
   "execution_count": 12,
   "metadata": {},
   "outputs": [],
   "source": [
    "model = FeedForward(num_tokens, max_tokens)\n",
    "optimizer = optim.Adam(model.parameters(), lr=1e-3)\n",
    "criterion = nn.BCELoss()"
   ]
  },
  {
   "cell_type": "code",
   "execution_count": 18,
   "metadata": {},
   "outputs": [],
   "source": [
    "input_data=input_sequences\n",
    "labels = y_ten.unsqueeze(1).float()"
   ]
  },
  {
   "cell_type": "code",
   "execution_count": 19,
   "metadata": {},
   "outputs": [
    {
     "data": {
      "text/plain": [
       "(torch.Size([7086, 40]), torch.Size([7086, 1]))"
      ]
     },
     "execution_count": 19,
     "metadata": {},
     "output_type": "execute_result"
    }
   ],
   "source": [
    "input_data.shape, labels.shape"
   ]
  },
  {
   "cell_type": "code",
   "execution_count": 20,
   "metadata": {},
   "outputs": [],
   "source": [
    "def train_model(model, optimizer, criterion, input_data, labels, num_epochs):\n",
    "    model.train()\n",
    "    for epoch in range(num_epochs):\n",
    "        optimizer.zero_grad()\n",
    "        output = model(input_data)\n",
    "        loss = criterion(output, labels)\n",
    "        loss.backward()\n",
    "        optimizer.step()\n",
    "        \n",
    "        if (epoch+1) % 10 == 0:\n",
    "            print(f'Epoch [{epoch+1}/{num_epochs}], Loss: {loss.item():.4f}')"
   ]
  },
  {
   "cell_type": "code",
   "execution_count": 21,
   "metadata": {},
   "outputs": [
    {
     "name": "stdout",
     "output_type": "stream",
     "text": [
      "Epoch [10/100], Loss: 0.6877\n",
      "Epoch [20/100], Loss: 0.6794\n",
      "Epoch [30/100], Loss: 0.6722\n",
      "Epoch [40/100], Loss: 0.6625\n",
      "Epoch [50/100], Loss: 0.6463\n",
      "Epoch [60/100], Loss: 0.6218\n",
      "Epoch [70/100], Loss: 0.5882\n",
      "Epoch [80/100], Loss: 0.5466\n",
      "Epoch [90/100], Loss: 0.5006\n",
      "Epoch [100/100], Loss: 0.4600\n"
     ]
    }
   ],
   "source": [
    "num_epochs = 100\n",
    "train_model(model, optimizer, criterion, input_data, labels, num_epochs)"
   ]
  }
 ],
 "metadata": {
  "kernelspec": {
   "display_name": "env1",
   "language": "python",
   "name": "python3"
  },
  "language_info": {
   "codemirror_mode": {
    "name": "ipython",
    "version": 3
   },
   "file_extension": ".py",
   "mimetype": "text/x-python",
   "name": "python",
   "nbconvert_exporter": "python",
   "pygments_lexer": "ipython3",
   "version": "3.10.14"
  }
 },
 "nbformat": 4,
 "nbformat_minor": 2
}
