{
 "cells": [
  {
   "cell_type": "code",
   "execution_count": 2,
   "metadata": {},
   "outputs": [],
   "source": [
    "from preprocess_functions import *\n",
    "import torch\n",
    "\n",
    "# PARAMETRY\n",
    "current_dir = os.getcwd()\n",
    "INPUT_FILE = os.path.join(current_dir, \"sentiment.txt\")\n",
    "OUTPUT_DIR = current_dir"
   ]
  },
  {
   "cell_type": "code",
   "execution_count": 3,
   "metadata": {},
   "outputs": [
    {
     "data": {
      "text/plain": [
       "(array([[  0,   0,   0, ...,  91, 120,  70],\n",
       "        [  0,   0,   0, ...,  91, 120,  70],\n",
       "        [  0,   0,   0, ...,  15,  20, 286],\n",
       "        ...,\n",
       "        [  0,   0,   0, ..., 360, 190,  69],\n",
       "        [  0,   0,   0, ..., 351, 363, 428],\n",
       "        [  0,   0,   0, ...,  91, 120,  70]]),\n",
       " numpy.ndarray)"
      ]
     },
     "execution_count": 3,
     "metadata": {},
     "output_type": "execute_result"
    }
   ],
   "source": [
    "X_text , Y = get_data(INPUT_FILE)\n",
    "token_idx,num_tokens = tokenize_text(X_text)\n",
    "max_tokens = get_max(X_text)\n",
    "\n",
    "input_sequences = create_sequences(X_text, token_idx,max_tokens)\n",
    "input_sequences, type(input_sequences)"
   ]
  },
  {
   "cell_type": "code",
   "execution_count": 4,
   "metadata": {},
   "outputs": [
    {
     "data": {
      "text/plain": [
       "(tensor([[  0,   0,   0,  ...,  91, 120,  70],\n",
       "         [  0,   0,   0,  ...,  91, 120,  70],\n",
       "         [  0,   0,   0,  ...,  15,  20, 286],\n",
       "         ...,\n",
       "         [  0,   0,   0,  ..., 360, 190,  69],\n",
       "         [  0,   0,   0,  ..., 351, 363, 428],\n",
       "         [  0,   0,   0,  ...,  91, 120,  70]], dtype=torch.int32),\n",
       " torch.Tensor)"
      ]
     },
     "execution_count": 4,
     "metadata": {},
     "output_type": "execute_result"
    }
   ],
   "source": [
    "input_sequences = torch.from_numpy(input_sequences)\n",
    "input_sequences, type(input_sequences)"
   ]
  },
  {
   "cell_type": "code",
   "execution_count": 5,
   "metadata": {},
   "outputs": [
    {
     "data": {
      "text/plain": [
       "torch.Size([7086, 40])"
      ]
     },
     "execution_count": 5,
     "metadata": {},
     "output_type": "execute_result"
    }
   ],
   "source": [
    "input_sequences.shape"
   ]
  },
  {
   "cell_type": "code",
   "execution_count": 24,
   "metadata": {},
   "outputs": [
    {
     "data": {
      "text/plain": [
       "torch.Size([7086])"
      ]
     },
     "execution_count": 24,
     "metadata": {},
     "output_type": "execute_result"
    }
   ],
   "source": [
    "labels = np.array(Y)\n",
    "labels = torch.tensor(labels).float()#.unsqueeze(1).float()\n",
    "labels.shape"
   ]
  },
  {
   "cell_type": "code",
   "execution_count": 25,
   "metadata": {},
   "outputs": [
    {
     "data": {
      "text/plain": [
       "(tensor([  0,   0,   0,   0,   0,   0,   0,   0,   0,   0,   0,   0,   0,   0,\n",
       "           0,   0,   0,   0,   0,   0,   0,   0,   0,   0,   0,   0,   0,   0,\n",
       "           0,   0,   0,   0,   0,   0,   0,   0, 202,  91, 120,  70],\n",
       "        dtype=torch.int32),\n",
       " tensor(1.))"
      ]
     },
     "execution_count": 25,
     "metadata": {},
     "output_type": "execute_result"
    }
   ],
   "source": [
    "input_sequences[1], labels[1]"
   ]
  },
  {
   "cell_type": "code",
   "execution_count": 26,
   "metadata": {},
   "outputs": [
    {
     "data": {
      "text/plain": [
       "('I love Brokeback Mountain....', 1)"
      ]
     },
     "execution_count": 26,
     "metadata": {},
     "output_type": "execute_result"
    }
   ],
   "source": [
    "X_text[1] , Y[1] "
   ]
  },
  {
   "cell_type": "code",
   "execution_count": 59,
   "metadata": {},
   "outputs": [],
   "source": [
    "import torch.nn as nn\n",
    "import torch.optim as optim\n",
    "\n",
    "\n",
    "class FeedForward(nn.Module):\n",
    "    def __init__(self, num_tokens, max_tokens):\n",
    "        super().__init__()\n",
    "        self.embedding = nn.Embedding(num_embeddings=num_tokens, embedding_dim=8, max_norm=max_tokens)\n",
    "        self.gru1 = nn.GRU(input_size=8, hidden_size=16, batch_first = True)\n",
    "        self.gru2 = nn.GRU(input_size=16, hidden_size=8, batch_first = True)\n",
    "        self.gru3 = nn.GRU(input_size=8, hidden_size=4, batch_first = True)\n",
    "        self.linear = nn.Linear(in_features=4, out_features=1)\n",
    "        self.sigmoid = nn.Sigmoid()\n",
    "\n",
    "\n",
    "    def forward(self, x):\n",
    "        x = self.embedding(x)\n",
    "        x, _ = self.gru1(x)\n",
    "        x, _ = self.gru2(x)\n",
    "        x, _ = self.gru3(x)\n",
    "        x = self.linear(x[:, -1, :])\n",
    "        x = self.sigmoid(x)\n",
    "        return x"
   ]
  },
  {
   "cell_type": "code",
   "execution_count": 60,
   "metadata": {},
   "outputs": [],
   "source": [
    "model = FeedForward(num_tokens, max_tokens)\n",
    "optimizer = optim.Adam(model.parameters(), lr=1e-3)\n",
    "criterion = nn.BCELoss()"
   ]
  },
  {
   "cell_type": "code",
   "execution_count": 61,
   "metadata": {},
   "outputs": [],
   "source": [
    "# Calculate accuracy (a classification metric)\n",
    "def accuracy_fn(y_true, y_pred):\n",
    "    correct = torch.eq(y_true, y_pred).sum().item() # torch.eq() calculates where two tensors are equal\n",
    "    acc = (correct / len(y_pred)) * 100 \n",
    "    return acc"
   ]
  },
  {
   "cell_type": "code",
   "execution_count": 62,
   "metadata": {},
   "outputs": [
    {
     "data": {
      "text/plain": [
       "(torch.Size([4747, 40]),\n",
       " torch.Size([2339, 40]),\n",
       " torch.Size([4747]),\n",
       " torch.Size([2339]))"
      ]
     },
     "execution_count": 62,
     "metadata": {},
     "output_type": "execute_result"
    }
   ],
   "source": [
    "from sklearn.model_selection import train_test_split\n",
    "\n",
    "X_train, X_test, y_train, y_test = train_test_split(input_sequences, labels, test_size=0.33, random_state=42)\n",
    "\n",
    "X_train.shape, X_test.shape, y_train.shape, y_test.shape"
   ]
  },
  {
   "cell_type": "code",
   "execution_count": 65,
   "metadata": {},
   "outputs": [
    {
     "name": "stdout",
     "output_type": "stream",
     "text": [
      "Epoch: 0 | Loss: 0.19963, Accuracy: 97.79% | Test loss: 0.22067, Test acc: 96.24%\n",
      "Epoch: 10 | Loss: 0.18643, Accuracy: 97.96% | Test loss: 0.20797, Test acc: 96.45%\n",
      "Epoch: 20 | Loss: 0.17498, Accuracy: 98.08% | Test loss: 0.19802, Test acc: 96.58%\n",
      "Epoch: 30 | Loss: 0.16491, Accuracy: 98.29% | Test loss: 0.18898, Test acc: 96.84%\n",
      "Epoch: 40 | Loss: 0.15489, Accuracy: 98.48% | Test loss: 0.18167, Test acc: 96.84%\n",
      "Epoch: 50 | Loss: 0.14647, Accuracy: 98.61% | Test loss: 0.17502, Test acc: 96.75%\n",
      "Epoch: 60 | Loss: 0.13916, Accuracy: 98.69% | Test loss: 0.17060, Test acc: 96.75%\n",
      "Epoch: 70 | Loss: 0.13265, Accuracy: 98.74% | Test loss: 0.16601, Test acc: 96.71%\n",
      "Epoch: 80 | Loss: 0.12645, Accuracy: 98.82% | Test loss: 0.16222, Test acc: 96.79%\n",
      "Epoch: 90 | Loss: 0.12123, Accuracy: 98.93% | Test loss: 0.15819, Test acc: 96.79%\n"
     ]
    }
   ],
   "source": [
    "torch.manual_seed(42)\n",
    "\n",
    "epochs = 100\n",
    "\n",
    "for epoch in range(epochs):\n",
    "    model.train()\n",
    "\n",
    "    y_logits = model(X_train).squeeze() # squeeze to remove extra `1` dimensions, this won't work unless model and data are on same device \n",
    "    y_pred = torch.round(y_logits) # turn logits -> pred probs -> pred labls\n",
    "    loss = criterion(y_logits, y_train) \n",
    "    acc = accuracy_fn(y_true=y_train, y_pred=y_pred)\n",
    "\n",
    "    optimizer.zero_grad()\n",
    "    loss.backward()\n",
    "    optimizer.step()\n",
    "\n",
    "    ### Testing\n",
    "    model.eval()\n",
    "    with torch.inference_mode():\n",
    "        test_logits = model(X_test).squeeze() \n",
    "        test_pred = torch.round(test_logits)\n",
    "        test_loss = criterion(test_logits,y_test)\n",
    "        test_acc = accuracy_fn(y_true=y_test,y_pred=test_pred)\n",
    "\n",
    "    # Print out what's happening every 10 epochs\n",
    "    if epoch % 10 == 0:\n",
    "        print(f\"Epoch: {epoch} | Loss: {loss:.5f}, Accuracy: {acc:.2f}% | Test loss: {test_loss:.5f}, Test acc: {test_acc:.2f}%\")"
   ]
  }
 ],
 "metadata": {
  "kernelspec": {
   "display_name": "env1",
   "language": "python",
   "name": "python3"
  },
  "language_info": {
   "codemirror_mode": {
    "name": "ipython",
    "version": 3
   },
   "file_extension": ".py",
   "mimetype": "text/x-python",
   "name": "python",
   "nbconvert_exporter": "python",
   "pygments_lexer": "ipython3",
   "version": "3.10.14"
  }
 },
 "nbformat": 4,
 "nbformat_minor": 2
}
